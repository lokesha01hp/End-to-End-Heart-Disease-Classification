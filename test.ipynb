{
 "cells": [
  {
   "cell_type": "markdown",
   "id": "b593bdba",
   "metadata": {},
   "source": [
    "### Import a saved joblib model\n"
   ]
  },
  {
   "cell_type": "code",
   "execution_count": 1,
   "id": "ccffc2bd",
   "metadata": {},
   "outputs": [],
   "source": [
    "from joblib import load\n",
    "\n",
    "loaded = load(filename='rs_log_reg.joblib')"
   ]
  },
  {
   "cell_type": "code",
   "execution_count": 22,
   "id": "f7baac89",
   "metadata": {},
   "outputs": [],
   "source": [
    "def evaluation(ans):\n",
    "    if ans[0] == 1:\n",
    "        print(\"Model predicts that the person has Heart-disease\")\n",
    "    else:\n",
    "        print(\"Model predicts that the person has no Heart-disease\")"
   ]
  },
  {
   "cell_type": "markdown",
   "id": "02c4db05",
   "metadata": {},
   "source": [
    "### Make a prediction on loaded model\n"
   ]
  },
  {
   "cell_type": "code",
   "execution_count": 19,
   "id": "289a042a",
   "metadata": {},
   "outputs": [
    {
     "name": "stdout",
     "output_type": "stream",
     "text": [
      "Model predicts that the person has Heart-disease\n"
     ]
    }
   ],
   "source": [
    "feature_names = ['age', 'sex', 'cp', 'trestbps', 'chol', 'fbs', 'restecg', 'thalach',\n",
    "       'exang', 'oldpeak', 'slope', 'ca', 'thal']\n",
    "\n",
    "\n",
    "# Create a DataFrame for your new data\n",
    "new_data = pd.DataFrame([[63,1,3,145,233,1,0,150,0,2.3,0,0,1]], columns=feature_names)\n",
    "\n",
    "# Now predict\n",
    "res = loaded.predict(new_data)\n",
    "evaluation(res)"
   ]
  },
  {
   "cell_type": "code",
   "execution_count": null,
   "id": "427377f4",
   "metadata": {},
   "outputs": [],
   "source": []
  },
  {
   "cell_type": "markdown",
   "id": "a3c35a41",
   "metadata": {},
   "source": [
    "#### Make Another prediction\n"
   ]
  },
  {
   "cell_type": "code",
   "execution_count": 23,
   "id": "52395b66",
   "metadata": {},
   "outputs": [
    {
     "name": "stdout",
     "output_type": "stream",
     "text": [
      "Model predicts that the person has no Heart-disease\n"
     ]
    }
   ],
   "source": [
    "feature_names = ['age', 'sex', 'cp', 'trestbps', 'chol', 'fbs', 'restecg', 'thalach',\n",
    "       'exang', 'oldpeak', 'slope', 'ca', 'thal']\n",
    "\n",
    "\n",
    "# Create a DataFrame for your new data\n",
    "new_data = pd.DataFrame([[62,0,0,160,164,0,0,145,0,6.2,0,3,3]], columns=feature_names)\n",
    "\n",
    "# Now predict\n",
    "res = loaded.predict(new_data)\n",
    "evaluation(res)"
   ]
  },
  {
   "cell_type": "code",
   "execution_count": null,
   "id": "3460e670",
   "metadata": {},
   "outputs": [],
   "source": []
  },
  {
   "cell_type": "code",
   "execution_count": null,
   "id": "c4a09abf",
   "metadata": {},
   "outputs": [],
   "source": []
  }
 ],
 "metadata": {
  "kernelspec": {
   "display_name": "base",
   "language": "python",
   "name": "python3"
  },
  "language_info": {
   "codemirror_mode": {
    "name": "ipython",
    "version": 3
   },
   "file_extension": ".py",
   "mimetype": "text/x-python",
   "name": "python",
   "nbconvert_exporter": "python",
   "pygments_lexer": "ipython3",
   "version": "3.13.5"
  }
 },
 "nbformat": 4,
 "nbformat_minor": 5
}
